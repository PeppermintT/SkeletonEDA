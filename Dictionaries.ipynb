{
 "cells": [
  {
   "cell_type": "markdown",
   "metadata": {},
   "source": [
    "## Python Dictionaries\n"
   ]
  },
  {
   "cell_type": "markdown",
   "metadata": {},
   "source": [
    "The dictionary data type is a way to access and organise data. A dictionary is a mutable collection of many values. Unlike a list a dictionary can use my different data types as keys and not just integers."
   ]
  },
  {
   "cell_type": "code",
   "execution_count": 3,
   "metadata": {},
   "outputs": [],
   "source": [
    "content_ratings = {} # create an empty dictionary\n",
    "#add some data  with a key and a value\n",
    "content_ratings ['4+'] = 4433\n",
    "content_ratings ['9+'] = 987\n",
    "content_ratings ['12+'] = 1155\n",
    "content_ratings ['17+'] = 622"
   ]
  },
  {
   "cell_type": "markdown",
   "metadata": {},
   "source": [
    " - The index of a dictionary value is called a key. In '4+': 4433, the dictionary key is '4+', and the dictionary value is 4433. As a whole, '4+': 4433 is a key-value pair.\n",
    " "
   ]
  },
  {
   "cell_type": "code",
   "execution_count": 4,
   "metadata": {},
   "outputs": [
    {
     "data": {
      "text/plain": [
       "{'4+': 4433, '9+': 987, '12+': 1155, '17+': 622}"
      ]
     },
     "execution_count": 4,
     "metadata": {},
     "output_type": "execute_result"
    }
   ],
   "source": [
    "content_ratings"
   ]
  },
  {
   "cell_type": "markdown",
   "metadata": {},
   "source": [
    "### Updating and populating an existing dictionary: loop through list"
   ]
  },
  {
   "cell_type": "code",
   "execution_count": 5,
   "metadata": {},
   "outputs": [],
   "source": [
    "ratings = ['4+', '4+', '4+', '9+', '9+', '12+', '17+']# some new data"
   ]
  },
  {
   "cell_type": "code",
   "execution_count": 6,
   "metadata": {},
   "outputs": [],
   "source": [
    "#loop through the list\n",
    "for item in ratings:\n",
    "    if item in content_ratings:\n",
    "        content_ratings[item] += 1"
   ]
  },
  {
   "cell_type": "code",
   "execution_count": 7,
   "metadata": {},
   "outputs": [
    {
     "data": {
      "text/plain": [
       "{'4+': 4436, '9+': 989, '12+': 1156, '17+': 623}"
      ]
     },
     "execution_count": 7,
     "metadata": {},
     "output_type": "execute_result"
    }
   ],
   "source": [
    "content_ratings"
   ]
  },
  {
   "cell_type": "markdown",
   "metadata": {},
   "source": [
    "### Another method to update an existing dictionary : making a change"
   ]
  },
  {
   "cell_type": "code",
   "execution_count": 8,
   "metadata": {},
   "outputs": [],
   "source": [
    "content_ratings ['4+'] = 0 # assign as nil\n",
    "content_ratings ['9+']+= 10 #add 10\n",
    "content_ratings ['12+'] -= 1000 #subtract 1000\n",
    "content_ratings ['17+'] = '620' #assign it as 620"
   ]
  },
  {
   "cell_type": "code",
   "execution_count": 9,
   "metadata": {},
   "outputs": [
    {
     "data": {
      "text/plain": [
       "{'4+': 0, '9+': 999, '12+': 156, '17+': '620'}"
      ]
     },
     "execution_count": 9,
     "metadata": {},
     "output_type": "execute_result"
    }
   ],
   "source": [
    "content_ratings"
   ]
  },
  {
   "cell_type": "markdown",
   "metadata": {},
   "source": [
    "### Another method to create and update dictionary: loop through csv"
   ]
  },
  {
   "cell_type": "code",
   "execution_count": 10,
   "metadata": {},
   "outputs": [],
   "source": [
    "#Get data from a csv file\n",
    "opened_file = open(\"C:/Users/sonja/Desktop/TfL/Furlough Learning/AppleStore.csv\", encoding=\"utf8\") # ratings in csv, column 10\n",
    "from csv import reader # get right packages\n",
    "read_file = reader(opened_file) # read file\n",
    "apps_data = list(read_file)# assing to apps_data\n"
   ]
  },
  {
   "cell_type": "code",
   "execution_count": 11,
   "metadata": {},
   "outputs": [
    {
     "name": "stdout",
     "output_type": "stream",
     "text": [
      "{'4+': 4433, '12+': 1155, '9+': 987, '17+': 622}\n"
     ]
    }
   ],
   "source": [
    "content_ratings = {} # create empty dictionary\n",
    "\n",
    "for row in apps_data [1:]: # iterate over each row other than header\n",
    "    c_rating = row [10] # call column 10 c_rating\n",
    "    if c_rating in content_ratings: #check if c_rating is in dictionary\n",
    "        content_ratings [c_rating] +=1 # if yes, add one counter\n",
    "    else:\n",
    "        content_ratings [c_rating] = 1 # if not, leave the value as is\n",
    "print(content_ratings)        "
   ]
  },
  {
   "cell_type": "markdown",
   "metadata": {},
   "source": [
    "When we encounter a content rating, we need to count it, no matter if it already exists or not as a dictionary key. When a rating that is not yet in the dictionary comes in, we need to both initialize it and count it. We need to initialize it with a value of 1 to mark the fact that this rating has already occurred once. If we initialized the dictionary key with a value of 0, we'd succeed in doing the initializing part, but fail to do the counting part."
   ]
  },
  {
   "cell_type": "code",
   "execution_count": 12,
   "metadata": {},
   "outputs": [],
   "source": [
    "#Now let's try counting the genre's - same principle\n",
    "\n",
    "genre_counting = {} #empty dictionary\n",
    "\n",
    "for row in apps_data [1:]:\n",
    "    genre = row [11]\n",
    "    if genre in genre_counting:\n",
    "        genre_counting [genre] +=1\n",
    "    else:\n",
    "        genre_counting [genre] = 1\n"
   ]
  },
  {
   "cell_type": "code",
   "execution_count": 13,
   "metadata": {},
   "outputs": [
    {
     "data": {
      "text/plain": [
       "{'Social Networking': 167,\n",
       " 'Photo & Video': 349,\n",
       " 'Games': 3862,\n",
       " 'Music': 138,\n",
       " 'Reference': 64,\n",
       " 'Health & Fitness': 180,\n",
       " 'Weather': 72,\n",
       " 'Utilities': 248,\n",
       " 'Travel': 81,\n",
       " 'Shopping': 122,\n",
       " 'News': 75,\n",
       " 'Navigation': 46,\n",
       " 'Lifestyle': 144,\n",
       " 'Entertainment': 535,\n",
       " 'Food & Drink': 63,\n",
       " 'Sports': 114,\n",
       " 'Book': 112,\n",
       " 'Finance': 104,\n",
       " 'Education': 453,\n",
       " 'Productivity': 178,\n",
       " 'Business': 57,\n",
       " 'Catalogs': 10,\n",
       " 'Medical': 23}"
      ]
     },
     "execution_count": 13,
     "metadata": {},
     "output_type": "execute_result"
    }
   ],
   "source": [
    "genre_counting"
   ]
  },
  {
   "cell_type": "code",
   "execution_count": 14,
   "metadata": {},
   "outputs": [],
   "source": [
    "# Now let's do frequencies by category - specifically we are \n",
    "#interested in rating counts\n",
    "\n",
    "n_user_ratings = []   #empty list\n",
    "for row in apps_data[1:]: #iterate over the rows\n",
    "    n_user_ratings.append(int(row[5])) # append content from col 5 in each row to the list\n",
    "    \n",
    "ratings_max = max(n_user_ratings) # find largest ratings number\n",
    "ratings_min = min(n_user_ratings) # and the samllest\n",
    "\n",
    "#Initialise dictionary with bands\n",
    "user_ratings_freq = {'0 - 10000': 0, '10000 - 100000': 0, '100000 - 500000': 0,\n",
    "                    '500000 - 1000000': 0, '1000000+': 0}"
   ]
  },
  {
   "cell_type": "code",
   "execution_count": 15,
   "metadata": {},
   "outputs": [],
   "source": [
    "for row in apps_data[1:]:\n",
    "    user_ratings = int(row[5])\n",
    "#test each user_rating against if function and allocate to dictionary based on frequency\n",
    "    if user_ratings <= 10000:\n",
    "        user_ratings_freq['0 - 10000'] += 1\n",
    "        \n",
    "    elif 10000 < user_ratings <= 100000:\n",
    "        user_ratings_freq['10000 - 100000'] += 1\n",
    "        \n",
    "    elif 100000 < user_ratings <= 500000:\n",
    "        user_ratings_freq['100000 - 500000'] += 1\n",
    "        \n",
    "    elif 500000 < user_ratings <= 1000000:\n",
    "        user_ratings_freq['500000 - 1000000'] += 1\n",
    "        \n",
    "    elif user_ratings > 1000000:\n",
    "        user_ratings_freq['1000000+'] += 1\n",
    "\n"
   ]
  },
  {
   "cell_type": "code",
   "execution_count": 16,
   "metadata": {},
   "outputs": [
    {
     "data": {
      "text/plain": [
       "{'0 - 10000': 6181,\n",
       " '10000 - 100000': 798,\n",
       " '100000 - 500000': 196,\n",
       " '500000 - 1000000': 16,\n",
       " '1000000+': 6}"
      ]
     },
     "execution_count": 16,
     "metadata": {},
     "output_type": "execute_result"
    }
   ],
   "source": [
    "user_ratings_freq"
   ]
  }
 ],
 "metadata": {
  "kernelspec": {
   "display_name": "Python 3",
   "language": "python",
   "name": "python3"
  },
  "language_info": {
   "codemirror_mode": {
    "name": "ipython",
    "version": 3
   },
   "file_extension": ".py",
   "mimetype": "text/x-python",
   "name": "python",
   "nbconvert_exporter": "python",
   "pygments_lexer": "ipython3",
   "version": "3.6.5"
  }
 },
 "nbformat": 4,
 "nbformat_minor": 2
}
