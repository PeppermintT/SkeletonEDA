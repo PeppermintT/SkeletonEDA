{
 "cells": [
  {
   "cell_type": "code",
   "execution_count": null,
   "metadata": {},
   "outputs": [],
   "source": []
  },
  {
   "cell_type": "code",
   "execution_count": 17,
   "metadata": {},
   "outputs": [],
   "source": [
    "#Import packages\n",
    "from platform import python_version\n",
    "import pandas as pd\n",
    "from pandas import ExcelWriter\n",
    "from pandas import ExcelFile\n",
    "import matplotlib.pyplot as plt\n",
    "import scipy\n",
    "from scipy import stats\n",
    "import numpy as np\n",
    "import seaborn as sn"
   ]
  },
  {
   "cell_type": "code",
   "execution_count": 3,
   "metadata": {},
   "outputs": [
    {
     "name": "stdout",
     "output_type": "stream",
     "text": [
      "python version==3.6.5\n",
      "pandas==0.23.0\n",
      "matplotlib==2.2.2\n",
      "scipy==1.1.0\n",
      "numpy==1.14.3\n",
      "seaborn==0.9.0\n"
     ]
    }
   ],
   "source": [
    "#Be clear on versions of packages\n",
    "print(\"python version==%s\" % python_version())\n",
    "print(\"pandas==%s\" % pd.__version__)\n",
    "print(\"matplotlib==%s\" % plt.__version__)\n",
    "print(\"scipy==%s\" % scipy.__version__)\n",
    "print(\"numpy==%s\" % np.__version__)\n",
    "print(\"seaborn==%s\" % sn.__version__)"
   ]
  },
  {
   "cell_type": "code",
   "execution_count": null,
   "metadata": {},
   "outputs": [],
   "source": [
    "#Read in\n",
    "data = pd.read_excel(\" pathway\", sheet_name='bla')"
   ]
  },
  {
   "cell_type": "code",
   "execution_count": null,
   "metadata": {},
   "outputs": [],
   "source": [
    "#Tidy\n",
    "#Replace spaces in the column headers for both datasets\n",
    "data.columns = data.columns.str.replace(' ', '_')\n",
    "\n",
    "#Ditch the totally empty cols\n",
    "data = data.dropna(axis=1, how='all') # Ditch all totally empty cols"
   ]
  },
  {
   "cell_type": "code",
   "execution_count": null,
   "metadata": {},
   "outputs": [],
   "source": [
    "#Learn about the dataset\n",
    "data.info()\n",
    "data.dtypes # learn what data types you have; as expected? Do they make sense.\n",
    "#Here is where you find out whether you need to be converting datatypes from one to the other.\n",
    "\n",
    "#Describe and eyeball what you got\n",
    "data.shape\n",
    "data.describe()\n",
    "data.sample(5)"
   ]
  },
  {
   "cell_type": "code",
   "execution_count": null,
   "metadata": {},
   "outputs": [],
   "source": [
    "#Filter out various rows\n",
    "#use query\n",
    "#eg\n",
    "data_clean = data.query ('blablaheader > 0')"
   ]
  },
  {
   "cell_type": "code",
   "execution_count": null,
   "metadata": {},
   "outputs": [],
   "source": [
    "#Trim down some cols to make unwieldy datasets more manageable\n",
    "data_clean_trim = data_clean[['header1', 'header2',........'header_n']]\n",
    "data_clean_trim.count() # count how many non nulls of each column there are to help\n",
    "#identify any nulls you may have"
   ]
  },
  {
   "cell_type": "code",
   "execution_count": null,
   "metadata": {},
   "outputs": [],
   "source": [
    "#As a result we may need to ditch some rows with nans\n",
    "\n",
    "data_clean_trimm = dataGT_clean_trim.dropna()"
   ]
  },
  {
   "cell_type": "code",
   "execution_count": 2,
   "metadata": {},
   "outputs": [],
   "source": [
    "#Plotting\n",
    "#Let's get a sense of distributions - so histograms\n",
    "plt.hist(data_clean_trim['header1'], color = 'blue', edgecolor = 'black', bins = int(100/10))\n",
    "plt.title('Histogram of my header')\n",
    "plt.xlabel('blabla')\n",
    "plt.ylabel('Frequency')\n"
   ]
  },
  {
   "cell_type": "code",
   "execution_count": null,
   "metadata": {},
   "outputs": [],
   "source": []
  }
 ],
 "metadata": {
  "kernelspec": {
   "display_name": "Python 3",
   "language": "python",
   "name": "python3"
  },
  "language_info": {
   "codemirror_mode": {
    "name": "ipython",
    "version": 3
   },
   "file_extension": ".py",
   "mimetype": "text/x-python",
   "name": "python",
   "nbconvert_exporter": "python",
   "pygments_lexer": "ipython3",
   "version": "3.6.5"
  }
 },
 "nbformat": 4,
 "nbformat_minor": 2
}
